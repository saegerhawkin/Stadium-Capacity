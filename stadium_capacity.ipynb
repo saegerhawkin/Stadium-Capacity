{
 "cells": [
  {
   "cell_type": "code",
   "execution_count": 1,
   "metadata": {},
   "outputs": [],
   "source": [
    "#Normal Imports\n",
    "import numpy as np\n",
    "import pandas as pd\n",
    "import matplotlib.pyplot as plt\n",
    "import seaborn as sns\n",
    "%matplotlib inline"
   ]
  },
  {
   "cell_type": "code",
   "execution_count": 2,
   "metadata": {},
   "outputs": [],
   "source": [
    "#Imports for Web Scraping\n",
    "from urllib.request import urlopen\n",
    "from bs4 import BeautifulSoup\n",
    "import re"
   ]
  },
  {
   "cell_type": "markdown",
   "metadata": {},
   "source": [
    "## Web Scraping\n",
    "I am going to scrape stadium data from Wikipedia. I'm looking at the stadiums with the largest capacities on Wikipedia. I believe it is a list of about the top 530."
   ]
  },
  {
   "cell_type": "code",
   "execution_count": 3,
   "metadata": {},
   "outputs": [],
   "source": [
    "url = \"https://en.wikipedia.org/wiki/List_of_stadiums_by_capacity\"\n",
    "open_url = urlopen(url)\n",
    "html = open_url.read()"
   ]
  },
  {
   "cell_type": "code",
   "execution_count": 4,
   "metadata": {},
   "outputs": [],
   "source": [
    "soup = BeautifulSoup(html, 'html.parser')"
   ]
  },
  {
   "cell_type": "code",
   "execution_count": 5,
   "metadata": {},
   "outputs": [],
   "source": [
    "#Find all the table rows\n",
    "rows = soup.find_all('tr')"
   ]
  },
  {
   "cell_type": "markdown",
   "metadata": {},
   "source": [
    "## Convert Scraped Data To A Clean List"
   ]
  },
  {
   "cell_type": "code",
   "execution_count": 6,
   "metadata": {},
   "outputs": [],
   "source": [
    "list_rows = []\n",
    "\n",
    "#get data values from the row\n",
    "for row in rows:\n",
    "    td = row.find_all('td') \n",
    "    row_text = row.get_text() # get the text, not the tags\n",
    "\n",
    "    # prep list for putting information into the overall list\n",
    "    l1 = row_text.split('\\n') \n",
    "    # there are empty parts in the list, removing them\n",
    "    while(\"\" in l1): \n",
    "        l1.remove(\"\") \n",
    "    list_rows.append(l1)"
   ]
  },
  {
   "cell_type": "markdown",
   "metadata": {},
   "source": [
    "## Cleaning Data\n",
    "Turning the list into a pandas dataframe, and cleaning it"
   ]
  },
  {
   "cell_type": "code",
   "execution_count": 7,
   "metadata": {},
   "outputs": [
    {
     "data": {
      "text/html": [
       "<div>\n",
       "<style scoped>\n",
       "    .dataframe tbody tr th:only-of-type {\n",
       "        vertical-align: middle;\n",
       "    }\n",
       "\n",
       "    .dataframe tbody tr th {\n",
       "        vertical-align: top;\n",
       "    }\n",
       "\n",
       "    .dataframe thead th {\n",
       "        text-align: right;\n",
       "    }\n",
       "</style>\n",
       "<table border=\"1\" class=\"dataframe\">\n",
       "  <thead>\n",
       "    <tr style=\"text-align: right;\">\n",
       "      <th></th>\n",
       "      <th>0</th>\n",
       "      <th>1</th>\n",
       "      <th>2</th>\n",
       "      <th>3</th>\n",
       "      <th>4</th>\n",
       "      <th>5</th>\n",
       "    </tr>\n",
       "  </thead>\n",
       "  <tbody>\n",
       "    <tr>\n",
       "      <th>0</th>\n",
       "      <td>Stadium</td>\n",
       "      <td>Capacity</td>\n",
       "      <td>City / State</td>\n",
       "      <td>Country</td>\n",
       "      <td>Tenant(s)</td>\n",
       "      <td>Main use(s)</td>\n",
       "    </tr>\n",
       "    <tr>\n",
       "      <th>1</th>\n",
       "      <td>Rungrado 1st of May Stadium</td>\n",
       "      <td>114,000[1]</td>\n",
       "      <td>Pyongyang</td>\n",
       "      <td>North Korea</td>\n",
       "      <td>Korea DPR national football team*</td>\n",
       "      <td>Association football, athletics, mass games</td>\n",
       "    </tr>\n",
       "    <tr>\n",
       "      <th>2</th>\n",
       "      <td>Michigan Stadium</td>\n",
       "      <td>110,601[2]</td>\n",
       "      <td>Ann Arbor, Michigan</td>\n",
       "      <td>United States</td>\n",
       "      <td>Michigan Wolverines football</td>\n",
       "      <td>American football</td>\n",
       "    </tr>\n",
       "    <tr>\n",
       "      <th>3</th>\n",
       "      <td>Beaver Stadium</td>\n",
       "      <td>106,572[3]</td>\n",
       "      <td>State College, Pennsylvania</td>\n",
       "      <td>United States</td>\n",
       "      <td>Penn State Nittany Lions football</td>\n",
       "      <td>American football</td>\n",
       "    </tr>\n",
       "    <tr>\n",
       "      <th>4</th>\n",
       "      <td>Kyle Field</td>\n",
       "      <td>102,733[4]</td>\n",
       "      <td>College Station, Texas</td>\n",
       "      <td>United States</td>\n",
       "      <td>Texas A&amp;M Aggies football</td>\n",
       "      <td>American football</td>\n",
       "    </tr>\n",
       "    <tr>\n",
       "      <th>5</th>\n",
       "      <td>Neyland Stadium</td>\n",
       "      <td>102,455[5]</td>\n",
       "      <td>Knoxville, Tennessee</td>\n",
       "      <td>United States</td>\n",
       "      <td>Tennessee Volunteers football</td>\n",
       "      <td>American football</td>\n",
       "    </tr>\n",
       "    <tr>\n",
       "      <th>6</th>\n",
       "      <td>Tiger Stadium</td>\n",
       "      <td>102,321[6]</td>\n",
       "      <td>Baton Rouge, Louisiana</td>\n",
       "      <td>United States</td>\n",
       "      <td>LSU Tigers football</td>\n",
       "      <td>American football</td>\n",
       "    </tr>\n",
       "    <tr>\n",
       "      <th>7</th>\n",
       "      <td>Ohio Stadium</td>\n",
       "      <td>102,082[7]</td>\n",
       "      <td>Columbus, Ohio</td>\n",
       "      <td>United States</td>\n",
       "      <td>Ohio State Buckeyes football</td>\n",
       "      <td>American football</td>\n",
       "    </tr>\n",
       "    <tr>\n",
       "      <th>8</th>\n",
       "      <td>Bryant–Denny Stadium</td>\n",
       "      <td>101,821[8]</td>\n",
       "      <td>Tuscaloosa, Alabama</td>\n",
       "      <td>United States</td>\n",
       "      <td>Alabama Crimson Tide football</td>\n",
       "      <td>American football</td>\n",
       "    </tr>\n",
       "    <tr>\n",
       "      <th>9</th>\n",
       "      <td>Darrell K Royal–Texas Memorial Stadium</td>\n",
       "      <td>100,119[9]</td>\n",
       "      <td>Austin, Texas</td>\n",
       "      <td>United States</td>\n",
       "      <td>Texas Longhorns football</td>\n",
       "      <td>American football</td>\n",
       "    </tr>\n",
       "  </tbody>\n",
       "</table>\n",
       "</div>"
      ],
      "text/plain": [
       "                                        0           1  \\\n",
       "0                                 Stadium    Capacity   \n",
       "1             Rungrado 1st of May Stadium  114,000[1]   \n",
       "2                        Michigan Stadium  110,601[2]   \n",
       "3                          Beaver Stadium  106,572[3]   \n",
       "4                              Kyle Field  102,733[4]   \n",
       "5                         Neyland Stadium  102,455[5]   \n",
       "6                           Tiger Stadium  102,321[6]   \n",
       "7                            Ohio Stadium  102,082[7]   \n",
       "8                    Bryant–Denny Stadium  101,821[8]   \n",
       "9  Darrell K Royal–Texas Memorial Stadium  100,119[9]   \n",
       "\n",
       "                             2              3  \\\n",
       "0                 City / State        Country   \n",
       "1                    Pyongyang    North Korea   \n",
       "2          Ann Arbor, Michigan  United States   \n",
       "3  State College, Pennsylvania  United States   \n",
       "4       College Station, Texas  United States   \n",
       "5         Knoxville, Tennessee  United States   \n",
       "6       Baton Rouge, Louisiana  United States   \n",
       "7               Columbus, Ohio  United States   \n",
       "8          Tuscaloosa, Alabama  United States   \n",
       "9                Austin, Texas  United States   \n",
       "\n",
       "                                   4  \\\n",
       "0                          Tenant(s)   \n",
       "1  Korea DPR national football team*   \n",
       "2       Michigan Wolverines football   \n",
       "3  Penn State Nittany Lions football   \n",
       "4          Texas A&M Aggies football   \n",
       "5      Tennessee Volunteers football   \n",
       "6                LSU Tigers football   \n",
       "7       Ohio State Buckeyes football   \n",
       "8      Alabama Crimson Tide football   \n",
       "9           Texas Longhorns football   \n",
       "\n",
       "                                             5  \n",
       "0                                  Main use(s)  \n",
       "1  Association football, athletics, mass games  \n",
       "2                            American football  \n",
       "3                            American football  \n",
       "4                            American football  \n",
       "5                            American football  \n",
       "6                            American football  \n",
       "7                            American football  \n",
       "8                            American football  \n",
       "9                            American football  "
      ]
     },
     "execution_count": 7,
     "metadata": {},
     "output_type": "execute_result"
    }
   ],
   "source": [
    "#Turn list_rows into a dataframe\n",
    "df = pd.DataFrame(list_rows)\n",
    "df = df[[0,1,2,3,4,5]]\n",
    "df.head(10)"
   ]
  },
  {
   "cell_type": "code",
   "execution_count": 8,
   "metadata": {},
   "outputs": [
    {
     "data": {
      "text/html": [
       "<div>\n",
       "<style scoped>\n",
       "    .dataframe tbody tr th:only-of-type {\n",
       "        vertical-align: middle;\n",
       "    }\n",
       "\n",
       "    .dataframe tbody tr th {\n",
       "        vertical-align: top;\n",
       "    }\n",
       "\n",
       "    .dataframe thead th {\n",
       "        text-align: right;\n",
       "    }\n",
       "</style>\n",
       "<table border=\"1\" class=\"dataframe\">\n",
       "  <thead>\n",
       "    <tr style=\"text-align: right;\">\n",
       "      <th></th>\n",
       "      <th>Stadium</th>\n",
       "      <th>Capacity</th>\n",
       "      <th>City / State</th>\n",
       "      <th>Country</th>\n",
       "      <th>Tenant(s)</th>\n",
       "      <th>Main use(s)</th>\n",
       "    </tr>\n",
       "  </thead>\n",
       "  <tbody>\n",
       "    <tr>\n",
       "      <th>1</th>\n",
       "      <td>Rungrado 1st of May Stadium</td>\n",
       "      <td>114,000[1]</td>\n",
       "      <td>Pyongyang</td>\n",
       "      <td>North Korea</td>\n",
       "      <td>Korea DPR national football team*</td>\n",
       "      <td>Association football, athletics, mass games</td>\n",
       "    </tr>\n",
       "    <tr>\n",
       "      <th>2</th>\n",
       "      <td>Michigan Stadium</td>\n",
       "      <td>110,601[2]</td>\n",
       "      <td>Ann Arbor, Michigan</td>\n",
       "      <td>United States</td>\n",
       "      <td>Michigan Wolverines football</td>\n",
       "      <td>American football</td>\n",
       "    </tr>\n",
       "    <tr>\n",
       "      <th>3</th>\n",
       "      <td>Beaver Stadium</td>\n",
       "      <td>106,572[3]</td>\n",
       "      <td>State College, Pennsylvania</td>\n",
       "      <td>United States</td>\n",
       "      <td>Penn State Nittany Lions football</td>\n",
       "      <td>American football</td>\n",
       "    </tr>\n",
       "    <tr>\n",
       "      <th>4</th>\n",
       "      <td>Kyle Field</td>\n",
       "      <td>102,733[4]</td>\n",
       "      <td>College Station, Texas</td>\n",
       "      <td>United States</td>\n",
       "      <td>Texas A&amp;M Aggies football</td>\n",
       "      <td>American football</td>\n",
       "    </tr>\n",
       "    <tr>\n",
       "      <th>5</th>\n",
       "      <td>Neyland Stadium</td>\n",
       "      <td>102,455[5]</td>\n",
       "      <td>Knoxville, Tennessee</td>\n",
       "      <td>United States</td>\n",
       "      <td>Tennessee Volunteers football</td>\n",
       "      <td>American football</td>\n",
       "    </tr>\n",
       "  </tbody>\n",
       "</table>\n",
       "</div>"
      ],
      "text/plain": [
       "0                      Stadium    Capacity                 City / State  \\\n",
       "1  Rungrado 1st of May Stadium  114,000[1]                    Pyongyang   \n",
       "2             Michigan Stadium  110,601[2]          Ann Arbor, Michigan   \n",
       "3               Beaver Stadium  106,572[3]  State College, Pennsylvania   \n",
       "4                   Kyle Field  102,733[4]       College Station, Texas   \n",
       "5              Neyland Stadium  102,455[5]         Knoxville, Tennessee   \n",
       "\n",
       "0        Country                          Tenant(s)  \\\n",
       "1    North Korea  Korea DPR national football team*   \n",
       "2  United States       Michigan Wolverines football   \n",
       "3  United States  Penn State Nittany Lions football   \n",
       "4  United States          Texas A&M Aggies football   \n",
       "5  United States      Tennessee Volunteers football   \n",
       "\n",
       "0                                  Main use(s)  \n",
       "1  Association football, athletics, mass games  \n",
       "2                            American football  \n",
       "3                            American football  \n",
       "4                            American football  \n",
       "5                            American football  "
      ]
     },
     "execution_count": 8,
     "metadata": {},
     "output_type": "execute_result"
    }
   ],
   "source": [
    "new_header = df.iloc[0] #grab the first row for the header\n",
    "df = df[1:]  #take the data thats not the header\n",
    "df.columns = new_header\n",
    "df.head()"
   ]
  },
  {
   "cell_type": "code",
   "execution_count": 9,
   "metadata": {},
   "outputs": [
    {
     "data": {
      "text/html": [
       "<div>\n",
       "<style scoped>\n",
       "    .dataframe tbody tr th:only-of-type {\n",
       "        vertical-align: middle;\n",
       "    }\n",
       "\n",
       "    .dataframe tbody tr th {\n",
       "        vertical-align: top;\n",
       "    }\n",
       "\n",
       "    .dataframe thead th {\n",
       "        text-align: right;\n",
       "    }\n",
       "</style>\n",
       "<table border=\"1\" class=\"dataframe\">\n",
       "  <thead>\n",
       "    <tr style=\"text-align: right;\">\n",
       "      <th></th>\n",
       "      <th>Stadium</th>\n",
       "      <th>Capacity</th>\n",
       "      <th>City / State</th>\n",
       "      <th>Country</th>\n",
       "      <th>Tenant(s)</th>\n",
       "      <th>Main use(s)</th>\n",
       "    </tr>\n",
       "  </thead>\n",
       "  <tbody>\n",
       "    <tr>\n",
       "      <th>1</th>\n",
       "      <td>Rungrado 1st of May Stadium</td>\n",
       "      <td>114,000</td>\n",
       "      <td>Pyongyang</td>\n",
       "      <td>North Korea</td>\n",
       "      <td>Korea DPR national football team*</td>\n",
       "      <td>Association football, athletics, mass games</td>\n",
       "    </tr>\n",
       "    <tr>\n",
       "      <th>2</th>\n",
       "      <td>Michigan Stadium</td>\n",
       "      <td>110,601</td>\n",
       "      <td>Ann Arbor, Michigan</td>\n",
       "      <td>United States</td>\n",
       "      <td>Michigan Wolverines football</td>\n",
       "      <td>American football</td>\n",
       "    </tr>\n",
       "    <tr>\n",
       "      <th>3</th>\n",
       "      <td>Beaver Stadium</td>\n",
       "      <td>106,572</td>\n",
       "      <td>State College, Pennsylvania</td>\n",
       "      <td>United States</td>\n",
       "      <td>Penn State Nittany Lions football</td>\n",
       "      <td>American football</td>\n",
       "    </tr>\n",
       "    <tr>\n",
       "      <th>4</th>\n",
       "      <td>Kyle Field</td>\n",
       "      <td>102,733</td>\n",
       "      <td>College Station, Texas</td>\n",
       "      <td>United States</td>\n",
       "      <td>Texas A&amp;M Aggies football</td>\n",
       "      <td>American football</td>\n",
       "    </tr>\n",
       "    <tr>\n",
       "      <th>5</th>\n",
       "      <td>Neyland Stadium</td>\n",
       "      <td>102,455</td>\n",
       "      <td>Knoxville, Tennessee</td>\n",
       "      <td>United States</td>\n",
       "      <td>Tennessee Volunteers football</td>\n",
       "      <td>American football</td>\n",
       "    </tr>\n",
       "  </tbody>\n",
       "</table>\n",
       "</div>"
      ],
      "text/plain": [
       "0                      Stadium Capacity                 City / State  \\\n",
       "1  Rungrado 1st of May Stadium  114,000                    Pyongyang   \n",
       "2             Michigan Stadium  110,601          Ann Arbor, Michigan   \n",
       "3               Beaver Stadium  106,572  State College, Pennsylvania   \n",
       "4                   Kyle Field  102,733       College Station, Texas   \n",
       "5              Neyland Stadium  102,455         Knoxville, Tennessee   \n",
       "\n",
       "0        Country                          Tenant(s)  \\\n",
       "1    North Korea  Korea DPR national football team*   \n",
       "2  United States       Michigan Wolverines football   \n",
       "3  United States  Penn State Nittany Lions football   \n",
       "4  United States          Texas A&M Aggies football   \n",
       "5  United States      Tennessee Volunteers football   \n",
       "\n",
       "0                                  Main use(s)  \n",
       "1  Association football, athletics, mass games  \n",
       "2                            American football  \n",
       "3                            American football  \n",
       "4                            American football  \n",
       "5                            American football  "
      ]
     },
     "execution_count": 9,
     "metadata": {},
     "output_type": "execute_result"
    }
   ],
   "source": [
    "# get rid of the brackets after some of the values\n",
    "for index, value in df['Capacity'].iteritems():\n",
    "    if value.endswith(']'):\n",
    "        replace_value = re.sub(\"[\\(\\[].*?[\\)\\]]\", \"\", value)\n",
    "        df['Capacity'][index] = replace_value\n",
    "            \n",
    "df.head()"
   ]
  },
  {
   "cell_type": "code",
   "execution_count": 10,
   "metadata": {},
   "outputs": [
    {
     "name": "stdout",
     "output_type": "stream",
     "text": [
      "<class 'pandas.core.frame.DataFrame'>\n",
      "RangeIndex: 537 entries, 1 to 537\n",
      "Data columns (total 6 columns):\n",
      "Stadium         537 non-null object\n",
      "Capacity        537 non-null object\n",
      "City / State    537 non-null object\n",
      "Country         537 non-null object\n",
      "Tenant(s)       537 non-null object\n",
      "Main use(s)     511 non-null object\n",
      "dtypes: object(6)\n",
      "memory usage: 25.3+ KB\n"
     ]
    }
   ],
   "source": [
    "#Info about the dataframe\n",
    "df.info()"
   ]
  },
  {
   "cell_type": "code",
   "execution_count": 11,
   "metadata": {},
   "outputs": [
    {
     "data": {
      "text/plain": [
       "0\n",
       "Stadium          0\n",
       "Capacity         0\n",
       "City / State     0\n",
       "Country          0\n",
       "Tenant(s)        0\n",
       "Main use(s)     26\n",
       "dtype: int64"
      ]
     },
     "execution_count": 11,
     "metadata": {},
     "output_type": "execute_result"
    }
   ],
   "source": [
    "# Check for nulls\n",
    "df.isna().sum()\n",
    "#Found out that when I deleted all blanks, there were some stadiums with no tenants, so main uses got moved over."
   ]
  },
  {
   "cell_type": "code",
   "execution_count": 12,
   "metadata": {},
   "outputs": [],
   "source": [
    "#Put the Main uses back, and set Tenants to null\n",
    "for index, value in df['Main use(s)'].iteritems():\n",
    "    if value==None:\n",
    "        df['Main use(s)'][index] = df['Tenant(s)'][index]\n",
    "        df['Tenant(s)'][index] = None"
   ]
  },
  {
   "cell_type": "code",
   "execution_count": 13,
   "metadata": {},
   "outputs": [
    {
     "data": {
      "text/plain": [
       "0\n",
       "Stadium          0\n",
       "Capacity         0\n",
       "City / State     0\n",
       "Country          0\n",
       "Tenant(s)       26\n",
       "Main use(s)      0\n",
       "dtype: int64"
      ]
     },
     "execution_count": 13,
     "metadata": {},
     "output_type": "execute_result"
    }
   ],
   "source": [
    "df.isna().sum()"
   ]
  },
  {
   "cell_type": "code",
   "execution_count": 14,
   "metadata": {},
   "outputs": [
    {
     "data": {
      "text/html": [
       "<div>\n",
       "<style scoped>\n",
       "    .dataframe tbody tr th:only-of-type {\n",
       "        vertical-align: middle;\n",
       "    }\n",
       "\n",
       "    .dataframe tbody tr th {\n",
       "        vertical-align: top;\n",
       "    }\n",
       "\n",
       "    .dataframe thead th {\n",
       "        text-align: right;\n",
       "    }\n",
       "</style>\n",
       "<table border=\"1\" class=\"dataframe\">\n",
       "  <thead>\n",
       "    <tr style=\"text-align: right;\">\n",
       "      <th></th>\n",
       "      <th>Stadium</th>\n",
       "      <th>Capacity</th>\n",
       "      <th>City / State</th>\n",
       "      <th>Country</th>\n",
       "      <th>Tenant(s)</th>\n",
       "      <th>Main use(s)</th>\n",
       "    </tr>\n",
       "  </thead>\n",
       "  <tbody>\n",
       "    <tr>\n",
       "      <th>1</th>\n",
       "      <td>Rungrado 1st of May Stadium</td>\n",
       "      <td>114000.0</td>\n",
       "      <td>Pyongyang</td>\n",
       "      <td>North Korea</td>\n",
       "      <td>Korea DPR national football team*</td>\n",
       "      <td>Association football, athletics, mass games</td>\n",
       "    </tr>\n",
       "    <tr>\n",
       "      <th>2</th>\n",
       "      <td>Michigan Stadium</td>\n",
       "      <td>110601.0</td>\n",
       "      <td>Ann Arbor, Michigan</td>\n",
       "      <td>United States</td>\n",
       "      <td>Michigan Wolverines football</td>\n",
       "      <td>American football</td>\n",
       "    </tr>\n",
       "    <tr>\n",
       "      <th>3</th>\n",
       "      <td>Beaver Stadium</td>\n",
       "      <td>106572.0</td>\n",
       "      <td>State College, Pennsylvania</td>\n",
       "      <td>United States</td>\n",
       "      <td>Penn State Nittany Lions football</td>\n",
       "      <td>American football</td>\n",
       "    </tr>\n",
       "    <tr>\n",
       "      <th>4</th>\n",
       "      <td>Kyle Field</td>\n",
       "      <td>102733.0</td>\n",
       "      <td>College Station, Texas</td>\n",
       "      <td>United States</td>\n",
       "      <td>Texas A&amp;M Aggies football</td>\n",
       "      <td>American football</td>\n",
       "    </tr>\n",
       "    <tr>\n",
       "      <th>5</th>\n",
       "      <td>Neyland Stadium</td>\n",
       "      <td>102455.0</td>\n",
       "      <td>Knoxville, Tennessee</td>\n",
       "      <td>United States</td>\n",
       "      <td>Tennessee Volunteers football</td>\n",
       "      <td>American football</td>\n",
       "    </tr>\n",
       "  </tbody>\n",
       "</table>\n",
       "</div>"
      ],
      "text/plain": [
       "0                      Stadium  Capacity                 City / State  \\\n",
       "1  Rungrado 1st of May Stadium  114000.0                    Pyongyang   \n",
       "2             Michigan Stadium  110601.0          Ann Arbor, Michigan   \n",
       "3               Beaver Stadium  106572.0  State College, Pennsylvania   \n",
       "4                   Kyle Field  102733.0       College Station, Texas   \n",
       "5              Neyland Stadium  102455.0         Knoxville, Tennessee   \n",
       "\n",
       "0        Country                          Tenant(s)  \\\n",
       "1    North Korea  Korea DPR national football team*   \n",
       "2  United States       Michigan Wolverines football   \n",
       "3  United States  Penn State Nittany Lions football   \n",
       "4  United States          Texas A&M Aggies football   \n",
       "5  United States      Tennessee Volunteers football   \n",
       "\n",
       "0                                  Main use(s)  \n",
       "1  Association football, athletics, mass games  \n",
       "2                            American football  \n",
       "3                            American football  \n",
       "4                            American football  \n",
       "5                            American football  "
      ]
     },
     "execution_count": 14,
     "metadata": {},
     "output_type": "execute_result"
    }
   ],
   "source": [
    "#Change Capacity to a Numeric Column\n",
    "df['Capacity'] = df['Capacity'].str.replace(',','')\n",
    "df['Capacity'] = pd.to_numeric(df['Capacity'])\n",
    "df.head()"
   ]
  },
  {
   "cell_type": "code",
   "execution_count": 15,
   "metadata": {},
   "outputs": [
    {
     "name": "stdout",
     "output_type": "stream",
     "text": [
      "<class 'pandas.core.frame.DataFrame'>\n",
      "RangeIndex: 537 entries, 1 to 537\n",
      "Data columns (total 6 columns):\n",
      "Stadium         537 non-null object\n",
      "Capacity        537 non-null float64\n",
      "City / State    537 non-null object\n",
      "Country         537 non-null object\n",
      "Tenant(s)       511 non-null object\n",
      "Main use(s)     537 non-null object\n",
      "dtypes: float64(1), object(5)\n",
      "memory usage: 25.3+ KB\n"
     ]
    }
   ],
   "source": [
    "df.info()"
   ]
  },
  {
   "cell_type": "code",
   "execution_count": 16,
   "metadata": {},
   "outputs": [
    {
     "data": {
      "text/html": [
       "<div>\n",
       "<style scoped>\n",
       "    .dataframe tbody tr th:only-of-type {\n",
       "        vertical-align: middle;\n",
       "    }\n",
       "\n",
       "    .dataframe tbody tr th {\n",
       "        vertical-align: top;\n",
       "    }\n",
       "\n",
       "    .dataframe thead th {\n",
       "        text-align: right;\n",
       "    }\n",
       "</style>\n",
       "<table border=\"1\" class=\"dataframe\">\n",
       "  <thead>\n",
       "    <tr style=\"text-align: right;\">\n",
       "      <th></th>\n",
       "      <th>Capacity</th>\n",
       "    </tr>\n",
       "  </thead>\n",
       "  <tbody>\n",
       "    <tr>\n",
       "      <th>count</th>\n",
       "      <td>537.000000</td>\n",
       "    </tr>\n",
       "    <tr>\n",
       "      <th>mean</th>\n",
       "      <td>55706.752086</td>\n",
       "    </tr>\n",
       "    <tr>\n",
       "      <th>std</th>\n",
       "      <td>14443.983637</td>\n",
       "    </tr>\n",
       "    <tr>\n",
       "      <th>min</th>\n",
       "      <td>69.870000</td>\n",
       "    </tr>\n",
       "    <tr>\n",
       "      <th>25%</th>\n",
       "      <td>45000.000000</td>\n",
       "    </tr>\n",
       "    <tr>\n",
       "      <th>50%</th>\n",
       "      <td>51898.000000</td>\n",
       "    </tr>\n",
       "    <tr>\n",
       "      <th>75%</th>\n",
       "      <td>62567.000000</td>\n",
       "    </tr>\n",
       "    <tr>\n",
       "      <th>max</th>\n",
       "      <td>114000.000000</td>\n",
       "    </tr>\n",
       "  </tbody>\n",
       "</table>\n",
       "</div>"
      ],
      "text/plain": [
       "0           Capacity\n",
       "count     537.000000\n",
       "mean    55706.752086\n",
       "std     14443.983637\n",
       "min        69.870000\n",
       "25%     45000.000000\n",
       "50%     51898.000000\n",
       "75%     62567.000000\n",
       "max    114000.000000"
      ]
     },
     "execution_count": 16,
     "metadata": {},
     "output_type": "execute_result"
    }
   ],
   "source": [
    "#Shows the Capacity states\n",
    "df.describe()"
   ]
  },
  {
   "cell_type": "code",
   "execution_count": 17,
   "metadata": {},
   "outputs": [
    {
     "data": {
      "text/plain": [
       "0\n",
       "Stadium                         Rungrado 1st of May Stadium\n",
       "Capacity                                             114000\n",
       "City / State                                      Pyongyang\n",
       "Country                                         North Korea\n",
       "Tenant(s)                 Korea DPR national football team*\n",
       "Main use(s)     Association football, athletics, mass games\n",
       "Name: 1, dtype: object"
      ]
     },
     "execution_count": 17,
     "metadata": {},
     "output_type": "execute_result"
    }
   ],
   "source": [
    "#Largest stadium\n",
    "df.loc[df['Capacity'].idxmax()]"
   ]
  },
  {
   "cell_type": "code",
   "execution_count": 18,
   "metadata": {},
   "outputs": [
    {
     "data": {
      "text/plain": [
       "0\n",
       "Stadium                     Baku National Stadium\n",
       "Capacity                                    69.87\n",
       "City / State                                 Baku\n",
       "Country                                Azerbaijan\n",
       "Tenant(s)       Azerbaijan national football team\n",
       "Main use(s)       Association football, athletics\n",
       "Name: 89, dtype: object"
      ]
     },
     "execution_count": 18,
     "metadata": {},
     "output_type": "execute_result"
    }
   ],
   "source": [
    "#Smallest Stadium in this list\n",
    "df.loc[df['Capacity'].idxmin()]\n",
    "\n",
    "# There actually is a mistake on the wikipedia page, dropping this record"
   ]
  },
  {
   "cell_type": "code",
   "execution_count": 19,
   "metadata": {},
   "outputs": [],
   "source": [
    "index = df['Capacity'].idxmin()\n",
    "df = df.drop(index)"
   ]
  },
  {
   "cell_type": "code",
   "execution_count": 20,
   "metadata": {},
   "outputs": [
    {
     "data": {
      "text/plain": [
       "0\n",
       "Stadium              Batakan Stadium\n",
       "Capacity                       40000\n",
       "City / State              Balikpapan\n",
       "Country                    Indonesia\n",
       "Tenant(s)         Persiba Balikpapan\n",
       "Main use(s)     Association football\n",
       "Name: 513, dtype: object"
      ]
     },
     "execution_count": 20,
     "metadata": {},
     "output_type": "execute_result"
    }
   ],
   "source": [
    "#Real minimum\n",
    "df.loc[df['Capacity'].idxmin()]"
   ]
  },
  {
   "cell_type": "markdown",
   "metadata": {},
   "source": [
    "## Visualization and Analysis"
   ]
  },
  {
   "cell_type": "code",
   "execution_count": 21,
   "metadata": {},
   "outputs": [],
   "source": [
    "sns.set(style='dark')"
   ]
  },
  {
   "cell_type": "code",
   "execution_count": 22,
   "metadata": {
    "scrolled": true
   },
   "outputs": [
    {
     "data": {
      "image/png": "[encoded data removed]",
      "text/plain": [
       "<Figure size 432x288 with 1 Axes>"
      ]
     },
     "metadata": {},
     "output_type": "display_data"
    }
   ],
   "source": [
    "plt.figure()\n",
    "graph = sns.distplot(df['Capacity'])\n",
    "plt.show()"
   ]
  },
  {
   "cell_type": "markdown",
   "metadata": {},
   "source": [
    "## Top 10 Countries\n",
    "Now I want to create a graph of the top 10 countries. Which countries have the most on the list of the largest stadiums. "
   ]
  },
  {
   "cell_type": "code",
   "execution_count": 23,
   "metadata": {},
   "outputs": [
    {
     "data": {
      "image/png": "[encoded data removed]",
      "text/plain": [
       "<Figure size 864x432 with 1 Axes>"
      ]
     },
     "metadata": {},
     "output_type": "display_data"
    }
   ],
   "source": [
    "country_count  = df['Country'].value_counts()\n",
    "top10_country = country_count[:10,]\n",
    "\n",
    "#set graph\n",
    "plt.figure(figsize=(12,6))\n",
    "graph = sns.barplot(top10_country.values, top10_country.index, alpha=0.8)\n",
    "plt.title('Top 10 Countries With the Largest Stadiums', fontsize=24)\n",
    "plt.ylabel('Country', fontsize=15)\n",
    "plt.xlabel('Number of Stadiums', fontsize=15)\n",
    "\n",
    "#annotate graph\n",
    "for i, v in enumerate(top10_country.values):\n",
    "    graph.text(v + 0.5, i + 0.25, str(v), color='black', fontsize=12)\n",
    "    \n",
    "plt.show()"
   ]
  },
  {
   "cell_type": "markdown",
   "metadata": {},
   "source": [
    "## Top 10 Sports\n",
    "Now I want to make a graph of the top 10 uses. Currently in the dataset, the Main uses sometimes have multiple values in one column. This is shown in that first graph below. I want to split it first then count all the columns so I look at each sport individually. "
   ]
  },
  {
   "cell_type": "code",
   "execution_count": 24,
   "metadata": {},
   "outputs": [
    {
     "data": {
      "image/png": "[encoded data removed]",
      "text/plain": [
       "<Figure size 864x432 with 1 Axes>"
      ]
     },
     "metadata": {},
     "output_type": "display_data"
    }
   ],
   "source": [
    "use_count  = df['Main use(s)'].value_counts()\n",
    "top10_use = use_count[:10,]\n",
    "\n",
    "#set graph\n",
    "plt.figure(figsize=(12,6))\n",
    "graph = sns.barplot(top10_use.values, top10_use.index, alpha=0.8)\n",
    "plt.title('Top 10 Sports With the Largest Stadiums', fontsize=24)\n",
    "plt.ylabel('Sport', fontsize=15)\n",
    "plt.xlabel('Number of Stadiums', fontsize=15)\n",
    "\n",
    "#annotate graph\n",
    "for i, v in enumerate(top10_use.values):\n",
    "    graph.text(v + 0.5, i + 0.25, str(v), color='black', fontsize=12)\n",
    "    \n",
    "#This graph will show the issue with combined lists.\n",
    "plt.show()"
   ]
  },
  {
   "cell_type": "code",
   "execution_count": 25,
   "metadata": {},
   "outputs": [
    {
     "data": {
      "text/html": [
       "<div>\n",
       "<style scoped>\n",
       "    .dataframe tbody tr th:only-of-type {\n",
       "        vertical-align: middle;\n",
       "    }\n",
       "\n",
       "    .dataframe tbody tr th {\n",
       "        vertical-align: top;\n",
       "    }\n",
       "\n",
       "    .dataframe thead th {\n",
       "        text-align: right;\n",
       "    }\n",
       "</style>\n",
       "<table border=\"1\" class=\"dataframe\">\n",
       "  <thead>\n",
       "    <tr style=\"text-align: right;\">\n",
       "      <th></th>\n",
       "      <th>0</th>\n",
       "      <th>1</th>\n",
       "      <th>2</th>\n",
       "      <th>3</th>\n",
       "      <th>4</th>\n",
       "    </tr>\n",
       "  </thead>\n",
       "  <tbody>\n",
       "    <tr>\n",
       "      <th>1</th>\n",
       "      <td>association football</td>\n",
       "      <td>athletics</td>\n",
       "      <td>mass games</td>\n",
       "      <td>None</td>\n",
       "      <td>None</td>\n",
       "    </tr>\n",
       "    <tr>\n",
       "      <th>2</th>\n",
       "      <td>american football</td>\n",
       "      <td>None</td>\n",
       "      <td>None</td>\n",
       "      <td>None</td>\n",
       "      <td>None</td>\n",
       "    </tr>\n",
       "    <tr>\n",
       "      <th>3</th>\n",
       "      <td>american football</td>\n",
       "      <td>None</td>\n",
       "      <td>None</td>\n",
       "      <td>None</td>\n",
       "      <td>None</td>\n",
       "    </tr>\n",
       "    <tr>\n",
       "      <th>4</th>\n",
       "      <td>american football</td>\n",
       "      <td>None</td>\n",
       "      <td>None</td>\n",
       "      <td>None</td>\n",
       "      <td>None</td>\n",
       "    </tr>\n",
       "    <tr>\n",
       "      <th>5</th>\n",
       "      <td>american football</td>\n",
       "      <td>None</td>\n",
       "      <td>None</td>\n",
       "      <td>None</td>\n",
       "      <td>None</td>\n",
       "    </tr>\n",
       "  </tbody>\n",
       "</table>\n",
       "</div>"
      ],
      "text/plain": [
       "                      0          1           2     3     4\n",
       "1  association football  athletics  mass games  None  None\n",
       "2     american football       None        None  None  None\n",
       "3     american football       None        None  None  None\n",
       "4     american football       None        None  None  None\n",
       "5     american football       None        None  None  None"
      ]
     },
     "execution_count": 25,
     "metadata": {},
     "output_type": "execute_result"
    }
   ],
   "source": [
    "#Split columns, by comma\n",
    "sports = df['Main use(s)']\n",
    "sports = sports.str.split(',', expand=True)\n",
    "\n",
    "#turn it all to lowercase\n",
    "for col in sports:\n",
    "    sports[col] = sports[col].str.lower()\n",
    "\n",
    "#remove whitespace at beginning of columns\n",
    "for col in sports:\n",
    "    sports[col] = sports[col].str.strip()\n",
    "sports.head()\n"
   ]
  },
  {
   "cell_type": "code",
   "execution_count": 26,
   "metadata": {},
   "outputs": [
    {
     "name": "stdout",
     "output_type": "stream",
     "text": [
      "Original:\n",
      " {'association football': 326, 'american football': 115, 'baseball': 29, 'cricket': 23, 'rugby union': 13, 'athletics': 8, 'gaelic football': 3, 'rugby league': 3, 'canadian football': 3, 'hurling': 3, 'australian rules football': 3, 'equestrian and show jumping': 1, 'none': 1, 'cricket and association football[115]': 1, 'bullfighting': 1, 'up cricket association': 1, 'basketball': 1, 'hockey': 1}\n",
      "\n",
      "\n",
      "Updated:\n",
      " {'association football': 355, 'american football': 120, 'baseball': 38, 'cricket': 33, 'rugby union': 25, 'athletics': 49, 'gaelic football': 6, 'rugby league': 7, 'canadian football': 3, 'hurling': 6, 'australian rules football': 8, 'equestrian and show jumping': 1, 'none': 1, 'cricket and association football[115]': 1, 'bullfighting': 1, 'up cricket association': 1, 'basketball': 3, 'hockey': 2, 'lacrosse': 4, 'speedway': 1, 'rugby': 1, 'camogie': 1, '': 1, 'mass games': 1}\n"
     ]
    }
   ],
   "source": [
    "#Get overall dictionary\n",
    "overall = dict(sports[0].value_counts())\n",
    "print(\"Original:\\n\", overall)\n",
    "\n",
    "#Loops through each column except original and adds values to the dictionary\n",
    "for i in range(1,5):\n",
    "    dict2 = dict(sports[i].value_counts()) #gets current column\n",
    "    for key in dict2: \n",
    "        if key in overall: \n",
    "            overall[key] = overall[key] + dict2[key] #if key exists, add values\n",
    "        else: \n",
    "            overall.update({key: dict2[key]}) #if key doesn't exist, append to dict\n",
    "\n",
    "print(\"\\n\\nUpdated:\\n\", overall)         \n"
   ]
  },
  {
   "cell_type": "code",
   "execution_count": 27,
   "metadata": {},
   "outputs": [
    {
     "data": {
      "text/html": [
       "<div>\n",
       "<style scoped>\n",
       "    .dataframe tbody tr th:only-of-type {\n",
       "        vertical-align: middle;\n",
       "    }\n",
       "\n",
       "    .dataframe tbody tr th {\n",
       "        vertical-align: top;\n",
       "    }\n",
       "\n",
       "    .dataframe thead th {\n",
       "        text-align: right;\n",
       "    }\n",
       "</style>\n",
       "<table border=\"1\" class=\"dataframe\">\n",
       "  <thead>\n",
       "    <tr style=\"text-align: right;\">\n",
       "      <th></th>\n",
       "      <th>sport</th>\n",
       "      <th>stadiums</th>\n",
       "    </tr>\n",
       "  </thead>\n",
       "  <tbody>\n",
       "    <tr>\n",
       "      <th>0</th>\n",
       "      <td>association football</td>\n",
       "      <td>355</td>\n",
       "    </tr>\n",
       "    <tr>\n",
       "      <th>1</th>\n",
       "      <td>american football</td>\n",
       "      <td>120</td>\n",
       "    </tr>\n",
       "    <tr>\n",
       "      <th>2</th>\n",
       "      <td>baseball</td>\n",
       "      <td>38</td>\n",
       "    </tr>\n",
       "    <tr>\n",
       "      <th>3</th>\n",
       "      <td>cricket</td>\n",
       "      <td>33</td>\n",
       "    </tr>\n",
       "    <tr>\n",
       "      <th>4</th>\n",
       "      <td>rugby union</td>\n",
       "      <td>25</td>\n",
       "    </tr>\n",
       "  </tbody>\n",
       "</table>\n",
       "</div>"
      ],
      "text/plain": [
       "                  sport  stadiums\n",
       "0  association football       355\n",
       "1     american football       120\n",
       "2              baseball        38\n",
       "3               cricket        33\n",
       "4           rugby union        25"
      ]
     },
     "execution_count": 27,
     "metadata": {},
     "output_type": "execute_result"
    }
   ],
   "source": [
    "#Convert back to dataframe so I can graph\n",
    "l1 = list(overall.keys())\n",
    "l2 = list(overall.values())\n",
    "\n",
    "df = pd.DataFrame([l1,l2])\n",
    "df = df.transpose()\n",
    "df.columns = ['sport','stadiums'] #rename columns\n",
    "df['stadiums']=pd.to_numeric(df['stadiums']) # convert column to numeric\n",
    "df.head()"
   ]
  },
  {
   "cell_type": "code",
   "execution_count": 28,
   "metadata": {},
   "outputs": [
    {
     "name": "stdout",
     "output_type": "stream",
     "text": [
      "<class 'pandas.core.frame.DataFrame'>\n",
      "RangeIndex: 24 entries, 0 to 23\n",
      "Data columns (total 2 columns):\n",
      "sport       24 non-null object\n",
      "stadiums    24 non-null int64\n",
      "dtypes: int64(1), object(1)\n",
      "memory usage: 512.0+ bytes\n"
     ]
    }
   ],
   "source": [
    "df.info()"
   ]
  },
  {
   "cell_type": "code",
   "execution_count": 33,
   "metadata": {},
   "outputs": [
    {
     "name": "stdout",
     "output_type": "stream",
     "text": [
      "                        sport  stadiums\n",
      "0        association football       355\n",
      "1           american football       120\n",
      "5                   athletics        49\n",
      "2                    baseball        38\n",
      "3                     cricket        33\n",
      "4                 rugby union        25\n",
      "10  australian rules football         8\n",
      "7                rugby league         7\n",
      "9                     hurling         6\n",
      "6             gaelic football         6\n"
     ]
    }
   ],
   "source": [
    "df = df.sort_values(by='stadiums', ascending=False)\n",
    "top10_use = df[:10]\n",
    "print(top10_use)"
   ]
  },
  {
   "cell_type": "code",
   "execution_count": 37,
   "metadata": {},
   "outputs": [
    {
     "data": {
      "image/png": "[encoded data removed]",
      "text/plain": [
       "<Figure size 864x432 with 1 Axes>"
      ]
     },
     "metadata": {},
     "output_type": "display_data"
    }
   ],
   "source": [
    "#set graph\n",
    "plt.figure(figsize=(12,6))\n",
    "graph = sns.barplot(top10_use['stadiums'], top10_use['sport'], alpha=0.8)\n",
    "plt.title('Top 10 Sports With the Largest Stadiums', fontsize=24)\n",
    "plt.ylabel('Sport', fontsize=15)\n",
    "plt.xlabel('Number of Stadiums', fontsize=15)\n",
    "\n",
    "#annotate graph\n",
    "for i, v in enumerate(top10_use['stadiums']):\n",
    "    graph.text(v + 0.5, i + 0.25, str(v), color='black', fontsize=12)\n",
    "    \n",
    "plt.show()"
   ]
  },
  {
   "cell_type": "code",
   "execution_count": null,
   "metadata": {},
   "outputs": [],
   "source": []
  }
 ],
 "metadata": {
  "kernelspec": {
   "display_name": "Python 3",
   "language": "python",
   "name": "python3"
  },
  "language_info": {
   "codemirror_mode": {
    "name": "ipython",
    "version": 3
   },
   "file_extension": ".py",
   "mimetype": "text/x-python",
   "name": "python",
   "nbconvert_exporter": "python",
   "pygments_lexer": "ipython3",
   "version": "3.7.4"
  }
 },
 "nbformat": 4,
 "nbformat_minor": 2
}
